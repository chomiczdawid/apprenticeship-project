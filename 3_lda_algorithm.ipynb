{
 "cells": [
  {
   "cell_type": "markdown",
   "metadata": {},
   "source": [
    "# Modelowanie tematyczne (ang. *topic modeling*)"
   ]
  },
  {
   "cell_type": "markdown",
   "metadata": {},
   "source": [
    "W tej sekcji następuje główna część projektu, czyli zastosowanie algotymu modelowania tematycznego. \n",
    "\n",
    "Do analizy wybrany został algorytm **LDA** (*Latent Dirichlet Allocation*), czyli trójpoziomowy hierarchiczny model bayesowski, w którym każdy element zbioru jest modelowany jako skończona mieszanina obejmująca podstawowy zestaw tematów. Każdy temat jest z kolei modelowany jako nieskończona mieszanina na podstawie zbioru prawdopodobieństw tematycznych. W kontekście modelowania tekstu, prawdopodobieństwa tematu zapewniają jawną reprezentację dokumentu."
   ]
  },
  {
   "cell_type": "markdown",
   "metadata": {},
   "source": [
    "### Przygotowanie danych"
   ]
  },
  {
   "cell_type": "markdown",
   "metadata": {},
   "source": [
    "Pierwszym krokiem jest przygotowanie tzw. **Bag of words**, czyli zbioru w formie listy słów i ich wystąpień, a także **słownika**, czyli listy słów używanych w analizie. Obie te zmienne muszą być w formie zmiennej *list*, ponieważ wymga tego uzywany w analizie algorytm pozyskany z biblioteki **gensim**."
   ]
  },
  {
   "cell_type": "code",
   "execution_count": 5,
   "metadata": {},
   "outputs": [],
   "source": [
    "import nltk\n",
    "import pickle\n",
    "import pandas as pd"
   ]
  },
  {
   "cell_type": "code",
   "execution_count": 7,
   "metadata": {},
   "outputs": [],
   "source": [
    "word_count_top = pd.read_pickle('word_count_top.pkl')\n",
    "df_clean = pd.read_pickle('df_clean.pkl')"
   ]
  },
  {
   "cell_type": "code",
   "execution_count": 8,
   "metadata": {},
   "outputs": [],
   "source": [
    "my_conditions = word_count_top.index.tolist()\n",
    "\n",
    "def text_token(text):\n",
    "    #tokenizacja\n",
    "    tokenized_words = nltk.word_tokenize(text)\n",
    "    #uwarunek\n",
    "    tokens_condit = [word for word in tokenized_words if word in my_conditions]\n",
    "    return tokens_condit\n",
    "\n",
    "to_dict = df_clean.text.apply(text_token)"
   ]
  },
  {
   "cell_type": "code",
   "execution_count": 9,
   "metadata": {},
   "outputs": [
    {
     "data": {
      "text/plain": [
       "['health',\n",
       " 'people',\n",
       " 'field',\n",
       " 'meal',\n",
       " 'grow',\n",
       " 'farmer',\n",
       " 'process',\n",
       " 'benefit',\n",
       " 'encourage',\n",
       " 'vitamin']"
      ]
     },
     "execution_count": 9,
     "metadata": {},
     "output_type": "execute_result"
    }
   ],
   "source": [
    "my_conditions[:10]"
   ]
  },
  {
   "cell_type": "code",
   "execution_count": 10,
   "metadata": {},
   "outputs": [
    {
     "data": {
      "text/plain": [
       "1     [farmer, encourage, people, cultivation, benef...\n",
       "2                                               [child]\n",
       "3     [cultivation, interest, process, encourage, cu...\n",
       "4                                            [interest]\n",
       "5                                [encourage, encourage]\n",
       "6                                [value, diet, benefit]\n",
       "7                                     [nature, vitamin]\n",
       "8              [field, promote, nature, people, health]\n",
       "9     [nature, people, meal, vitamin, people, nature...\n",
       "10                         [fresh, farmer, cultivation]\n",
       "Name: text, dtype: object"
      ]
     },
     "execution_count": 10,
     "metadata": {},
     "output_type": "execute_result"
    }
   ],
   "source": [
    "to_dict[:10]"
   ]
  },
  {
   "cell_type": "code",
   "execution_count": 11,
   "metadata": {},
   "outputs": [],
   "source": [
    "import gensim\n",
    "\n",
    "dictionary = gensim.corpora.Dictionary(to_dict)"
   ]
  },
  {
   "cell_type": "code",
   "execution_count": 12,
   "metadata": {},
   "outputs": [
    {
     "data": {
      "text/plain": [
       "[(10, 1)]"
      ]
     },
     "execution_count": 12,
     "metadata": {},
     "output_type": "execute_result"
    }
   ],
   "source": [
    "bow_corpus = [dictionary.doc2bow(doc) for doc in to_dict]\n",
    "bow_corpus[100]"
   ]
  },
  {
   "cell_type": "markdown",
   "metadata": {},
   "source": [
    "### Symulacja optymalnej liczby wątków LDA dla rzeczowników"
   ]
  },
  {
   "cell_type": "markdown",
   "metadata": {},
   "source": [
    "Zanim zostanie wykonane modelowanie postanowiono dowiedzieć się jaka jest optymalna liczba tematów w modelu.\n",
    "\n",
    "Do tego celu został skonstruowany poniższy algorytm.\n",
    "\n",
    "W pierwszej kolejności definiowana jest funkcja *compute_coherence_values*, która ma za zadanie wykonać modelowanie za pomocą LDA dla liczby tematów mieszczącej się w przedziale od 2 do 40, a następnie dla każdego modelu obliczyć *coherence value*, czyli wskaźnik spójności modelu. Na bazie tego wskaźnika określona zostanie jakość modelu.\n",
    "\n",
    "Następnie za pomocą wykresu zostaje zobrazowana zależność między liczbą tematów, a spójnością modelu. Z analizy wykresu wynika, że modele z liczbą tematów wyższą niż 15 mają znaczącą niższy wskaźnik spójności.\n",
    "\n",
    "Po tej obserwacji liczba symulowanych tematów zostaje zawężona do przedziału między 2 a 15, a następnie funkcja *compute_coherence_values* jest wykonywana dziesięć razy, z czego każdy wynik optymalny jest zapisywany w tabeli. Na koniec wybierany jest najlepszy wynik z tabeli, który stanowi \"optimum optimów\"."
   ]
  },
  {
   "cell_type": "code",
   "execution_count": 27,
   "metadata": {},
   "outputs": [],
   "source": [
    "from gensim.models.coherencemodel import CoherenceModel\n",
    "\n",
    "def compute_coherence_values(dictionary, corpus, limit, start=2, step=3):\n",
    "    coherence_values = []\n",
    "    model_list = []\n",
    "    for num_topics in range(start, limit, step):\n",
    "        model = gensim.models.LdaMulticore(corpus, num_topics=num_topics, id2word=dictionary, passes=30, workers=4)\n",
    "        model_list.append(model)\n",
    "        coherencemodel = CoherenceModel(model=model, corpus=corpus, dictionary=dictionary, coherence='u_mass')\n",
    "        coherence_values.append(coherencemodel.get_coherence())\n",
    "\n",
    "    return model_list, coherence_values"
   ]
  },
  {
   "cell_type": "code",
   "execution_count": 28,
   "metadata": {},
   "outputs": [],
   "source": [
    "#wykonanie powyższej funkcji dla tematów od 2 do 40\n",
    "model_list, coherence_values = compute_coherence_values(dictionary=dictionary, corpus=bow_corpus, \n",
    "                                                        start=2, limit=40, step=1)"
   ]
  },
  {
   "cell_type": "code",
   "execution_count": 29,
   "metadata": {},
   "outputs": [
    {
     "data": {
      "image/png": "[encoded data removed]",
      "text/plain": [
       "<Figure size 432x288 with 1 Axes>"
      ]
     },
     "metadata": {
      "needs_background": "light"
     },
     "output_type": "display_data"
    }
   ],
   "source": [
    "#Wizualizacja zgodności modeli z daną ilością tematów\n",
    "import matplotlib.pyplot as plt\n",
    "import matplotlib.image as mpimg\n",
    "\n",
    "limit=40; start=2; step=1;\n",
    "x = range(start, limit, step)\n",
    "plt.plot(x, coherence_values)\n",
    "plt.xlabel(\"Num Topics\")\n",
    "plt.ylabel(\"Coherence score\")\n",
    "plt.legend((\"coherence_values\"), loc='best')\n",
    "plt.show()\n",
    "\n",
    "#Wniosek: tendencja wskazuje, że wiecej niż 15 nie jest istotne (w przypadku NOUN, NOUN+ADJ)"
   ]
  },
  {
   "cell_type": "code",
   "execution_count": 30,
   "metadata": {},
   "outputs": [
    {
     "name": "stdout",
     "output_type": "stream",
     "text": [
      "Num Topics = 2  has Coherence Value of -2.3917\n",
      "Num Topics = 3  has Coherence Value of -2.3914\n",
      "Num Topics = 4  has Coherence Value of -2.377\n",
      "Num Topics = 5  has Coherence Value of -2.3775\n",
      "Num Topics = 6  has Coherence Value of -2.3857\n",
      "Num Topics = 7  has Coherence Value of -2.3855\n",
      "Num Topics = 8  has Coherence Value of -2.4242\n",
      "Num Topics = 9  has Coherence Value of -2.3765\n",
      "Num Topics = 10  has Coherence Value of -2.3776\n",
      "Num Topics = 11  has Coherence Value of -2.3895\n",
      "Num Topics = 12  has Coherence Value of -2.3665\n",
      "Num Topics = 13  has Coherence Value of -2.3903\n",
      "Num Topics = 14  has Coherence Value of -2.355\n",
      "Num Topics = 15  has Coherence Value of -2.3842\n",
      "Num Topics = 16  has Coherence Value of -2.4034\n",
      "Num Topics = 17  has Coherence Value of -2.395\n",
      "Num Topics = 18  has Coherence Value of -2.3841\n",
      "Num Topics = 19  has Coherence Value of -2.3982\n",
      "Num Topics = 20  has Coherence Value of -2.4037\n",
      "Num Topics = 21  has Coherence Value of -2.4052\n",
      "Num Topics = 22  has Coherence Value of -2.4075\n",
      "Num Topics = 23  has Coherence Value of -2.4177\n",
      "Num Topics = 24  has Coherence Value of -2.3906\n",
      "Num Topics = 25  has Coherence Value of -2.4026\n",
      "Num Topics = 26  has Coherence Value of -2.3972\n",
      "Num Topics = 27  has Coherence Value of -2.4184\n",
      "Num Topics = 28  has Coherence Value of -2.41\n",
      "Num Topics = 29  has Coherence Value of -2.4016\n",
      "Num Topics = 30  has Coherence Value of -2.4084\n",
      "Num Topics = 31  has Coherence Value of -2.4089\n",
      "Num Topics = 32  has Coherence Value of -2.4038\n",
      "Num Topics = 33  has Coherence Value of -2.3977\n",
      "Num Topics = 34  has Coherence Value of -2.4034\n",
      "Num Topics = 35  has Coherence Value of -2.426\n",
      "Num Topics = 36  has Coherence Value of -2.4042\n",
      "Num Topics = 37  has Coherence Value of -2.4141\n",
      "Num Topics = 38  has Coherence Value of -2.4238\n",
      "Num Topics = 39  has Coherence Value of -2.4164\n"
     ]
    }
   ],
   "source": [
    "#Wypisanie każdego z 40 wyników\n",
    "for m, cv in zip(x, coherence_values):\n",
    "    print(\"Num Topics =\", m, \" has Coherence Value of\", round(cv, 4))"
   ]
  },
  {
   "cell_type": "code",
   "execution_count": 31,
   "metadata": {},
   "outputs": [
    {
     "name": "stdout",
     "output_type": "stream",
     "text": [
      "Optimal Num Topics = [14]  has Coherence Value of [-2.354994349233022]\n"
     ]
    }
   ],
   "source": [
    "#Wyznaczenie najlepszego wyniku z powyższych 40\n",
    "optimal_t = [m for m, cv in zip(x, coherence_values) if cv == max(coherence_values)]\n",
    "optimal_n = [cv for m, cv in zip(x, coherence_values) if cv == max(coherence_values)]\n",
    "print(\"Optimal Num Topics =\", optimal_t, \" has Coherence Value of\", optimal_n)"
   ]
  },
  {
   "cell_type": "code",
   "execution_count": 32,
   "metadata": {},
   "outputs": [],
   "source": [
    "opt_top = pd.DataFrame(columns=['Num_Topics', 'Coherence_Value'])"
   ]
  },
  {
   "cell_type": "code",
   "execution_count": 33,
   "metadata": {},
   "outputs": [],
   "source": [
    "#Pętla wykonująca 10 razy ewaluacje 16 modeli LDA i wybór optimum, zapisująca 10 optymalnych rozwiązań do ramki danych\n",
    "\n",
    "for i in range(10):\n",
    "    model_list, coherence_values = compute_coherence_values(dictionary=dictionary, corpus=bow_corpus, \n",
    "                                                        start=2, limit=16, step=1)\n",
    "    optimal_t = [m for m, cv in zip(x, coherence_values) if cv == max(coherence_values)]\n",
    "    optimal_n = [cv for m, cv in zip(x, coherence_values) if cv == max(coherence_values)]\n",
    "    opt_top.loc[i] = optimal_t + optimal_n"
   ]
  },
  {
   "cell_type": "code",
   "execution_count": 34,
   "metadata": {},
   "outputs": [
    {
     "data": {
      "text/html": [
       "<div>\n",
       "<style scoped>\n",
       "    .dataframe tbody tr th:only-of-type {\n",
       "        vertical-align: middle;\n",
       "    }\n",
       "\n",
       "    .dataframe tbody tr th {\n",
       "        vertical-align: top;\n",
       "    }\n",
       "\n",
       "    .dataframe thead th {\n",
       "        text-align: right;\n",
       "    }\n",
       "</style>\n",
       "<table border=\"1\" class=\"dataframe\">\n",
       "  <thead>\n",
       "    <tr style=\"text-align: right;\">\n",
       "      <th></th>\n",
       "      <th>Num_Topics</th>\n",
       "      <th>Coherence_Value</th>\n",
       "    </tr>\n",
       "  </thead>\n",
       "  <tbody>\n",
       "    <tr>\n",
       "      <th>0</th>\n",
       "      <td>7.0</td>\n",
       "      <td>-2.322368</td>\n",
       "    </tr>\n",
       "    <tr>\n",
       "      <th>1</th>\n",
       "      <td>5.0</td>\n",
       "      <td>-2.339415</td>\n",
       "    </tr>\n",
       "    <tr>\n",
       "      <th>2</th>\n",
       "      <td>5.0</td>\n",
       "      <td>-2.337502</td>\n",
       "    </tr>\n",
       "    <tr>\n",
       "      <th>3</th>\n",
       "      <td>5.0</td>\n",
       "      <td>-2.325055</td>\n",
       "    </tr>\n",
       "    <tr>\n",
       "      <th>4</th>\n",
       "      <td>5.0</td>\n",
       "      <td>-2.335236</td>\n",
       "    </tr>\n",
       "    <tr>\n",
       "      <th>5</th>\n",
       "      <td>7.0</td>\n",
       "      <td>-2.329001</td>\n",
       "    </tr>\n",
       "    <tr>\n",
       "      <th>6</th>\n",
       "      <td>6.0</td>\n",
       "      <td>-2.335439</td>\n",
       "    </tr>\n",
       "    <tr>\n",
       "      <th>7</th>\n",
       "      <td>5.0</td>\n",
       "      <td>-2.357687</td>\n",
       "    </tr>\n",
       "    <tr>\n",
       "      <th>8</th>\n",
       "      <td>6.0</td>\n",
       "      <td>-2.361506</td>\n",
       "    </tr>\n",
       "    <tr>\n",
       "      <th>9</th>\n",
       "      <td>3.0</td>\n",
       "      <td>-2.331645</td>\n",
       "    </tr>\n",
       "  </tbody>\n",
       "</table>\n",
       "</div>"
      ],
      "text/plain": [
       "   Num_Topics  Coherence_Value\n",
       "0         7.0        -2.322368\n",
       "1         5.0        -2.339415\n",
       "2         5.0        -2.337502\n",
       "3         5.0        -2.325055\n",
       "4         5.0        -2.335236\n",
       "5         7.0        -2.329001\n",
       "6         6.0        -2.335439\n",
       "7         5.0        -2.357687\n",
       "8         6.0        -2.361506\n",
       "9         3.0        -2.331645"
      ]
     },
     "execution_count": 34,
     "metadata": {},
     "output_type": "execute_result"
    }
   ],
   "source": [
    "opt_top.head(10)"
   ]
  },
  {
   "cell_type": "code",
   "execution_count": 35,
   "metadata": {},
   "outputs": [
    {
     "name": "stdout",
     "output_type": "stream",
     "text": [
      "   Num_Topics  Coherence_Value\n",
      "0         7.0        -2.322368\n"
     ]
    }
   ],
   "source": [
    "#Wyświetlenie najlepszego wyniku z 10 najlepszych wyników - ostateczny wynik\n",
    "print(opt_top.loc[opt_top['Coherence_Value'] == opt_top['Coherence_Value'].max()])"
   ]
  },
  {
   "cell_type": "markdown",
   "metadata": {},
   "source": [
    "Z powyższej symulacji wynikło, że optymalną liczbą tematów w modelu jest 7."
   ]
  },
  {
   "cell_type": "markdown",
   "metadata": {},
   "source": [
    "### Obliczanie modelu"
   ]
  },
  {
   "cell_type": "markdown",
   "metadata": {},
   "source": [
    "Po przygotowaniu danych w odpowiedniej formie wykonany został algorytm LDA w dwóch wariantach.\n",
    "1. W pierwszym wariancie liczba tematów do wygenerowania została ustalona arbitralnie, na podstawie teorii marketingowej.\n",
    "2. W drugim wariancie liczba tematów jest optimum obliczonym przez algorytm symulacyjny. "
   ]
  },
  {
   "cell_type": "markdown",
   "metadata": {},
   "source": [
    "##### Obliczanie modelu dla 2 wątków"
   ]
  },
  {
   "cell_type": "code",
   "execution_count": 28,
   "metadata": {
    "scrolled": true
   },
   "outputs": [
    {
     "name": "stdout",
     "output_type": "stream",
     "text": [
      "Topic: 0 \n",
      "Words: 0.149*\"benefit\" + 0.123*\"family\" + 0.117*\"vitamin\" + 0.114*\"juice\" + 0.081*\"child\" + 0.077*\"interest\" + 0.066*\"consumption\" + 0.062*\"information\" + 0.061*\"body\" + 0.057*\"effect\" + 0.048*\"impact\" + 0.040*\"value\" + 0.001*\"support\" + 0.001*\"nutrition\" + 0.000*\"care\"\n",
      "\n",
      "Topic: 1 \n",
      "Words: 0.155*\"field\" + 0.130*\"process\" + 0.125*\"farmer\" + 0.102*\"crop\" + 0.072*\"nature\" + 0.067*\"cultivation\" + 0.061*\"care\" + 0.055*\"grow\" + 0.053*\"value\" + 0.049*\"work\" + 0.046*\"nutrition\" + 0.041*\"support\" + 0.040*\"production\" + 0.000*\"consumption\" + 0.000*\"vitamin\"\n",
      "\n"
     ]
    }
   ],
   "source": [
    "lda_model = gensim.models.LdaMulticore(bow_corpus, num_topics=2, id2word=dictionary, passes=300, workers=4)\n",
    "\n",
    "for idx, topic in lda_model.print_topics(-1,15):\n",
    "    print('Topic: {} \\nWords: {}\\n'.format(idx, topic))"
   ]
  },
  {
   "cell_type": "code",
   "execution_count": 29,
   "metadata": {},
   "outputs": [],
   "source": [
    "#Zapisywanie ciekawszych modeli\n",
    "from gensim.test.utils import datapath\n",
    "\n",
    "lda_model.save('D:\\\\Python\\\\Projekt dla metodolog.pl\\\\modele\\\\lda_noun_1')"
   ]
  },
  {
   "cell_type": "markdown",
   "metadata": {},
   "source": [
    "##### Obliczanie modelu dla symulowanej liczby wątków"
   ]
  },
  {
   "cell_type": "code",
   "execution_count": 36,
   "metadata": {
    "scrolled": true
   },
   "outputs": [
    {
     "name": "stdout",
     "output_type": "stream",
     "text": [
      "Topic: 0 \n",
      "Words: 0.347*\"process\" + 0.198*\"grow\" + 0.152*\"support\" + 0.144*\"production\" + 0.111*\"farmer\" + 0.043*\"care\" + 0.000*\"body\" + 0.000*\"consumption\" + 0.000*\"nature\" + 0.000*\"benefit\" + 0.000*\"cultivation\" + 0.000*\"information\" + 0.000*\"work\" + 0.000*\"vitamin\" + 0.000*\"impact\"\n",
      "\n",
      "Topic: 1 \n",
      "Words: 0.379*\"crop\" + 0.249*\"cultivation\" + 0.182*\"work\" + 0.130*\"process\" + 0.036*\"care\" + 0.019*\"consumption\" + 0.000*\"farmer\" + 0.000*\"nature\" + 0.000*\"body\" + 0.000*\"benefit\" + 0.000*\"grow\" + 0.000*\"field\" + 0.000*\"vitamin\" + 0.000*\"value\" + 0.000*\"information\"\n",
      "\n",
      "Topic: 2 \n",
      "Words: 0.535*\"field\" + 0.246*\"nature\" + 0.149*\"farmer\" + 0.065*\"vitamin\" + 0.000*\"care\" + 0.000*\"grow\" + 0.000*\"process\" + 0.000*\"crop\" + 0.000*\"work\" + 0.000*\"value\" + 0.000*\"support\" + 0.000*\"benefit\" + 0.000*\"production\" + 0.000*\"nutrition\" + 0.000*\"cultivation\"\n",
      "\n",
      "Topic: 3 \n",
      "Words: 0.458*\"family\" + 0.301*\"child\" + 0.234*\"farmer\" + 0.000*\"body\" + 0.000*\"value\" + 0.000*\"support\" + 0.000*\"care\" + 0.000*\"vitamin\" + 0.000*\"cultivation\" + 0.000*\"nature\" + 0.000*\"benefit\" + 0.000*\"process\" + 0.000*\"consumption\" + 0.000*\"field\" + 0.000*\"juice\"\n",
      "\n",
      "Topic: 4 \n",
      "Words: 0.305*\"value\" + 0.269*\"benefit\" + 0.168*\"effect\" + 0.140*\"care\" + 0.112*\"body\" + 0.000*\"farmer\" + 0.000*\"consumption\" + 0.000*\"interest\" + 0.000*\"vitamin\" + 0.000*\"process\" + 0.000*\"nutrition\" + 0.000*\"impact\" + 0.000*\"nature\" + 0.000*\"production\" + 0.000*\"cultivation\"\n",
      "\n",
      "Topic: 5 \n",
      "Words: 0.272*\"vitamin\" + 0.180*\"information\" + 0.172*\"consumption\" + 0.167*\"benefit\" + 0.139*\"impact\" + 0.066*\"body\" + 0.000*\"effect\" + 0.000*\"cultivation\" + 0.000*\"care\" + 0.000*\"farmer\" + 0.000*\"interest\" + 0.000*\"nutrition\" + 0.000*\"child\" + 0.000*\"process\" + 0.000*\"grow\"\n",
      "\n",
      "Topic: 6 \n",
      "Words: 0.457*\"juice\" + 0.309*\"interest\" + 0.226*\"nutrition\" + 0.000*\"benefit\" + 0.000*\"body\" + 0.000*\"value\" + 0.000*\"information\" + 0.000*\"consumption\" + 0.000*\"vitamin\" + 0.000*\"farmer\" + 0.000*\"care\" + 0.000*\"support\" + 0.000*\"family\" + 0.000*\"impact\" + 0.000*\"process\"\n",
      "\n"
     ]
    }
   ],
   "source": [
    "lda_model_sim = gensim.models.LdaMulticore(bow_corpus, num_topics=7, id2word=dictionary, passes=300, workers=4)\n",
    "\n",
    "for idx, topic in lda_model_sim.print_topics(-1,15):\n",
    "    print('Topic: {} \\nWords: {}\\n'.format(idx, topic))"
   ]
  },
  {
   "cell_type": "code",
   "execution_count": 31,
   "metadata": {},
   "outputs": [],
   "source": [
    "#Zapisywanie ciekawszych modeli\n",
    "from gensim.test.utils import datapath\n",
    "\n",
    "lda_model_sim.save('D:\\\\Python\\\\Projekt dla metodolog.pl\\\\modele\\\\lda_noun_2')"
   ]
  },
  {
   "cell_type": "markdown",
   "metadata": {},
   "source": [
    "#### Wynik - model LDA dla rzeczowników, 2 wątki"
   ]
  },
  {
   "cell_type": "code",
   "execution_count": 32,
   "metadata": {
    "scrolled": true
   },
   "outputs": [
    {
     "name": "stdout",
     "output_type": "stream",
     "text": [
      "Topic: 0 \n",
      "Words: 0.149*\"benefit\" + 0.123*\"family\" + 0.117*\"vitamin\" + 0.114*\"juice\" + 0.081*\"child\" + 0.077*\"interest\" + 0.066*\"consumption\" + 0.062*\"information\" + 0.061*\"body\" + 0.057*\"effect\" + 0.048*\"impact\" + 0.040*\"value\" + 0.001*\"support\" + 0.001*\"nutrition\" + 0.000*\"care\" + 0.000*\"nature\" + 0.000*\"cultivation\"\n",
      "\n",
      "Topic: 1 \n",
      "Words: 0.155*\"field\" + 0.130*\"process\" + 0.125*\"farmer\" + 0.102*\"crop\" + 0.072*\"nature\" + 0.067*\"cultivation\" + 0.061*\"care\" + 0.055*\"grow\" + 0.053*\"value\" + 0.049*\"work\" + 0.046*\"nutrition\" + 0.041*\"support\" + 0.040*\"production\" + 0.000*\"consumption\" + 0.000*\"vitamin\" + 0.000*\"information\" + 0.000*\"effect\"\n",
      "\n"
     ]
    }
   ],
   "source": [
    "lda_model_loaded = gensim.models.LdaMulticore.load('D:\\\\Python\\\\Projekt dla metodolog.pl\\\\modele\\\\lda_noun_1')\n",
    "\n",
    "for idx, topic in lda_model_loaded.print_topics(-1,17):\n",
    "    print('Topic: {} \\nWords: {}\\n'.format(idx, topic))"
   ]
  },
  {
   "cell_type": "markdown",
   "metadata": {},
   "source": [
    "#### Wynik - model LDA dla rzeczowników, symulowane wątki"
   ]
  },
  {
   "cell_type": "code",
   "execution_count": 1,
   "metadata": {
    "scrolled": false
   },
   "outputs": [
    {
     "ename": "NameError",
     "evalue": "name 'gensim' is not defined",
     "output_type": "error",
     "traceback": [
      "\u001b[1;31m---------------------------------------------------------------------------\u001b[0m",
      "\u001b[1;31mNameError\u001b[0m                                 Traceback (most recent call last)",
      "\u001b[1;32m<ipython-input-1-99833b0fe547>\u001b[0m in \u001b[0;36m<module>\u001b[1;34m\u001b[0m\n\u001b[1;32m----> 1\u001b[1;33m \u001b[0mlda_model_loaded\u001b[0m \u001b[1;33m=\u001b[0m \u001b[0mgensim\u001b[0m\u001b[1;33m.\u001b[0m\u001b[0mmodels\u001b[0m\u001b[1;33m.\u001b[0m\u001b[0mLdaMulticore\u001b[0m\u001b[1;33m.\u001b[0m\u001b[0mload\u001b[0m\u001b[1;33m(\u001b[0m\u001b[1;34m'D:\\\\Python\\\\Projekt dla metodolog.pl\\\\modele\\\\lda_noun_2'\u001b[0m\u001b[1;33m)\u001b[0m\u001b[1;33m\u001b[0m\u001b[1;33m\u001b[0m\u001b[0m\n\u001b[0m\u001b[0;32m      2\u001b[0m \u001b[1;33m\u001b[0m\u001b[0m\n\u001b[0;32m      3\u001b[0m \u001b[1;32mfor\u001b[0m \u001b[0midx\u001b[0m\u001b[1;33m,\u001b[0m \u001b[0mtopic\u001b[0m \u001b[1;32min\u001b[0m \u001b[0mlda_model_loaded\u001b[0m\u001b[1;33m.\u001b[0m\u001b[0mprint_topics\u001b[0m\u001b[1;33m(\u001b[0m\u001b[1;33m-\u001b[0m\u001b[1;36m1\u001b[0m\u001b[1;33m,\u001b[0m\u001b[1;36m7\u001b[0m\u001b[1;33m)\u001b[0m\u001b[1;33m:\u001b[0m\u001b[1;33m\u001b[0m\u001b[1;33m\u001b[0m\u001b[0m\n\u001b[0;32m      4\u001b[0m     \u001b[0mprint\u001b[0m\u001b[1;33m(\u001b[0m\u001b[1;34m'Topic: {} \\nWords: {}\\n'\u001b[0m\u001b[1;33m.\u001b[0m\u001b[0mformat\u001b[0m\u001b[1;33m(\u001b[0m\u001b[0midx\u001b[0m\u001b[1;33m,\u001b[0m \u001b[0mtopic\u001b[0m\u001b[1;33m)\u001b[0m\u001b[1;33m)\u001b[0m\u001b[1;33m\u001b[0m\u001b[1;33m\u001b[0m\u001b[0m\n",
      "\u001b[1;31mNameError\u001b[0m: name 'gensim' is not defined"
     ]
    }
   ],
   "source": [
    "lda_model_loaded = gensim.models.LdaMulticore.load('D:\\\\Python\\\\Projekt dla metodolog.pl\\\\modele\\\\lda_noun_2')\n",
    "\n",
    "for idx, topic in lda_model_loaded.print_topics(-1,10):\n",
    "    print('Topic: {} \\nWords: {}\\n'.format(idx, topic))"
   ]
  },
  {
   "cell_type": "code",
   "execution_count": null,
   "metadata": {},
   "outputs": [],
   "source": []
  }
 ],
 "metadata": {
  "kernelspec": {
   "display_name": "Python 3",
   "language": "python",
   "name": "python3"
  },
  "language_info": {
   "codemirror_mode": {
    "name": "ipython",
    "version": 3
   },
   "file_extension": ".py",
   "mimetype": "text/x-python",
   "name": "python",
   "nbconvert_exporter": "python",
   "pygments_lexer": "ipython3",
   "version": "3.8.3"
  }
 },
 "nbformat": 4,
 "nbformat_minor": 4
}
