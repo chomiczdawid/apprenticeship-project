{
 "cells": [
  {
   "cell_type": "markdown",
   "metadata": {},
   "source": [
    "# Modelowanie tematyczne (ang. *topic modeling*)"
   ]
  },
  {
   "cell_type": "markdown",
   "metadata": {},
   "source": [
    "W tej sekcji następuje główna część projektu, czyli zastosowanie algotymu modelowania tematycznego. \n",
    "\n",
    "Do analizy wybrany został algorytm **LDA** (*Latent Dirichlet Allocation*), czyli trójpoziomowy hierarchiczny model bayesowski, w którym każdy element zbioru jest modelowany jako skończona mieszanina obejmująca podstawowy zestaw tematów. Każdy temat jest z kolei modelowany jako nieskończona mieszanina na podstawie zbioru prawdopodobieństw tematycznych. W kontekście modelowania tekstu, prawdopodobieństwa tematu zapewniają jawną reprezentację dokumentu."
   ]
  },
  {
   "cell_type": "markdown",
   "metadata": {},
   "source": [
    "### Przygotowanie danych"
   ]
  },
  {
   "cell_type": "markdown",
   "metadata": {},
   "source": [
    "Pierwszym krokiem jest przygotowanie tzw. **Bag of words**, czyli zbioru w formie listy słów i częstości ich wystąpień, a także **słownika**, czyli listy słów umiejscowionych odpowiednio do ich oryginalnych współrzędnych w początkowej ramce danych. Obie te zmienne muszą być w formie zmiennej *list*, ponieważ wymga tego uzywany w analizie algorytm pozyskany z biblioteki **gensim**."
   ]
  },
  {
   "cell_type": "code",
   "execution_count": 1,
   "metadata": {},
   "outputs": [],
   "source": [
    "import nltk\n",
    "import pickle\n",
    "import pandas as pd"
   ]
  },
  {
   "cell_type": "code",
   "execution_count": 2,
   "metadata": {},
   "outputs": [],
   "source": [
    "word_count_top = pd.read_pickle('word_count_top.pkl')\n",
    "df_clean = pd.read_pickle('df_clean.pkl')"
   ]
  },
  {
   "cell_type": "markdown",
   "metadata": {},
   "source": [
    "Funkcja *text_to_dict* filtruje cały zbiór tekstu otrzymany po przetwarzaniu przez listę słów wybranych do analizy. W wyniku powstaje lista rekordów, na której słowa dopuszczone do analizy znajdują się na swoich oryginalnych pozycjach."
   ]
  },
  {
   "cell_type": "code",
   "execution_count": 4,
   "metadata": {},
   "outputs": [],
   "source": [
    "my_conditions = word_count_top.index.tolist()\n",
    "\n",
    "def text_to_dict(text):\n",
    "    #tokenizacja\n",
    "    tokenized_words = nltk.word_tokenize(text)\n",
    "    #uwarunek\n",
    "    tokens_condit = [word for word in tokenized_words if word in my_conditions]\n",
    "    return tokens_condit\n",
    "\n",
    "to_dict = df_clean.text.apply(text_to_dict)"
   ]
  },
  {
   "cell_type": "code",
   "execution_count": 5,
   "metadata": {},
   "outputs": [
    {
     "data": {
      "text/plain": [
       "['field',\n",
       " 'process',\n",
       " 'farmer',\n",
       " 'benefit',\n",
       " 'crop',\n",
       " 'family',\n",
       " 'vitamin',\n",
       " 'juice',\n",
       " 'value',\n",
       " 'nature']"
      ]
     },
     "execution_count": 5,
     "metadata": {},
     "output_type": "execute_result"
    }
   ],
   "source": [
    "my_conditions[:10]"
   ]
  },
  {
   "cell_type": "code",
   "execution_count": 6,
   "metadata": {},
   "outputs": [
    {
     "data": {
      "text/plain": [
       "1     [farmer, cultivation, benefit, vitamin, farmer...\n",
       "2                                                    []\n",
       "3     [cultivation, interest, information, cultivation]\n",
       "4                                            [interest]\n",
       "5                            [consumption, consumption]\n",
       "6                     [value, nutrition, benefit, body]\n",
       "7                                     [nature, vitamin]\n",
       "8                                 [field, nature, care]\n",
       "9                             [nature, vitamin, nature]\n",
       "10           [farmer, cultivation, support, production]\n",
       "Name: text, dtype: object"
      ]
     },
     "execution_count": 6,
     "metadata": {},
     "output_type": "execute_result"
    }
   ],
   "source": [
    "to_dict[:10]"
   ]
  },
  {
   "cell_type": "code",
   "execution_count": 7,
   "metadata": {},
   "outputs": [],
   "source": [
    "import gensim\n",
    "\n",
    "dictionary = gensim.corpora.Dictionary(to_dict)"
   ]
  },
  {
   "cell_type": "code",
   "execution_count": 8,
   "metadata": {},
   "outputs": [
    {
     "data": {
      "text/plain": [
       "[(10, 1)]"
      ]
     },
     "execution_count": 8,
     "metadata": {},
     "output_type": "execute_result"
    }
   ],
   "source": [
    "bow_corpus = [dictionary.doc2bow(doc) for doc in to_dict]\n",
    "bow_corpus[100]"
   ]
  },
  {
   "cell_type": "markdown",
   "metadata": {},
   "source": [
    "### Symulacja optymalnej liczby wątków LDA dla rzeczowników"
   ]
  },
  {
   "cell_type": "markdown",
   "metadata": {},
   "source": [
    "Zanim zostanie wykonane modelowanie postanowiono dowiedzieć się jaka jest optymalna liczba tematów w modelu.\n",
    "\n",
    "Do tego celu został skonstruowany poniższy algorytm.\n",
    "\n",
    "W pierwszej kolejności definiowana jest funkcja *compute_coherence_values*, która ma za zadanie wykonać modelowanie za pomocą LDA dla liczby tematów mieszczącej się w przedziale od 2 do 40, a następnie dla każdego modelu obliczyć *coherence value*, czyli wskaźnik spójności modelu. Na bazie tego wskaźnika określona zostanie jakość modelu. Dokładna specyfikacja wskaźnika dostępna jest [pod tym adresem](http://svn.aksw.org/papers/2015/WSDM_Topic_Evaluation/public.pdf).\n",
    "\n",
    "Następnie za pomocą wykresu zostaje zobrazowana zależność między liczbą tematów, a spójnością modelu. Z analizy wielu wygenerowanych wykresów wynika, że modele z liczbą tematów wyższą niż 15 mają znacząco niższy wskaźnik spójności.\n",
    "\n",
    "Po tej obserwacji liczba symulowanych tematów zostaje zawężona do przedziału między 2 a 15, a następnie funkcja *compute_coherence_values* jest wykonywana dziesięć razy, z czego każdy wynik optymalny jest zapisywany w tabeli. Na koniec wybierany jest najlepszy wynik z tabeli, który stanowi \"najlepszy z najlepszych\"."
   ]
  },
  {
   "cell_type": "code",
   "execution_count": 32,
   "metadata": {},
   "outputs": [],
   "source": [
    "from gensim.models.coherencemodel import CoherenceModel\n",
    "\n",
    "def compute_coherence_values(dictionary, corpus, limit, start=2, step=3):\n",
    "    coherence_values = []\n",
    "    model_list = []\n",
    "    for num_topics in range(start, limit, step):\n",
    "        model = gensim.models.LdaMulticore(corpus, num_topics=num_topics, id2word=dictionary, passes=30, workers=4)\n",
    "        model_list.append(model)\n",
    "        coherencemodel = CoherenceModel(model=model, corpus=corpus, dictionary=dictionary, coherence='u_mass')\n",
    "        coherence_values.append(coherencemodel.get_coherence())\n",
    "\n",
    "    return model_list, coherence_values"
   ]
  },
  {
   "cell_type": "code",
   "execution_count": 60,
   "metadata": {},
   "outputs": [],
   "source": [
    "#wykonanie powyższej funkcji dla tematów od 2 do 40\n",
    "model_list, coherence_values = compute_coherence_values(dictionary=dictionary, corpus=bow_corpus, \n",
    "                                                        start=2, limit=40, step=1)"
   ]
  },
  {
   "cell_type": "code",
   "execution_count": 61,
   "metadata": {},
   "outputs": [
    {
     "data": {
      "image/png": "[encoded data removed]",
      "text/plain": [
       "<Figure size 432x288 with 1 Axes>"
      ]
     },
     "metadata": {
      "needs_background": "light"
     },
     "output_type": "display_data"
    }
   ],
   "source": [
    "#Wizualizacja zgodności modeli z daną ilością tematów\n",
    "import matplotlib.pyplot as plt\n",
    "import matplotlib.image as mpimg\n",
    "\n",
    "limit=40; start=2; step=1;\n",
    "x = range(start, limit, step)\n",
    "plt.plot(x, coherence_values)\n",
    "plt.xlabel(\"Num Topics\")\n",
    "plt.ylabel(\"Coherence score\")\n",
    "plt.legend((\"coherence_values\"), loc='best')\n",
    "plt.show()\n",
    "\n",
    "#Wniosek: tendencja wskazuje, że wiecej niż 15 nie jest istotne"
   ]
  },
  {
   "cell_type": "code",
   "execution_count": 62,
   "metadata": {},
   "outputs": [
    {
     "name": "stdout",
     "output_type": "stream",
     "text": [
      "Num Topics = 2  has Coherence Value of -2.1357\n",
      "Num Topics = 3  has Coherence Value of -2.0619\n",
      "Num Topics = 4  has Coherence Value of -2.1193\n",
      "Num Topics = 5  has Coherence Value of -2.0861\n",
      "Num Topics = 6  has Coherence Value of -2.0718\n",
      "Num Topics = 7  has Coherence Value of -2.0824\n",
      "Num Topics = 8  has Coherence Value of -2.0264\n",
      "Num Topics = 9  has Coherence Value of -2.0873\n",
      "Num Topics = 10  has Coherence Value of -2.1014\n",
      "Num Topics = 11  has Coherence Value of -2.0656\n",
      "Num Topics = 12  has Coherence Value of -2.0991\n",
      "Num Topics = 13  has Coherence Value of -2.0921\n",
      "Num Topics = 14  has Coherence Value of -2.0969\n",
      "Num Topics = 15  has Coherence Value of -2.0801\n",
      "Num Topics = 16  has Coherence Value of -2.1237\n",
      "Num Topics = 17  has Coherence Value of -2.0929\n",
      "Num Topics = 18  has Coherence Value of -2.081\n",
      "Num Topics = 19  has Coherence Value of -2.1223\n",
      "Num Topics = 20  has Coherence Value of -2.102\n",
      "Num Topics = 21  has Coherence Value of -2.1269\n",
      "Num Topics = 22  has Coherence Value of -2.1324\n",
      "Num Topics = 23  has Coherence Value of -2.1495\n",
      "Num Topics = 24  has Coherence Value of -2.119\n",
      "Num Topics = 25  has Coherence Value of -2.1236\n",
      "Num Topics = 26  has Coherence Value of -2.1313\n",
      "Num Topics = 27  has Coherence Value of -2.127\n",
      "Num Topics = 28  has Coherence Value of -2.1477\n",
      "Num Topics = 29  has Coherence Value of -2.1206\n",
      "Num Topics = 30  has Coherence Value of -2.1236\n",
      "Num Topics = 31  has Coherence Value of -2.1279\n",
      "Num Topics = 32  has Coherence Value of -2.1347\n",
      "Num Topics = 33  has Coherence Value of -2.1233\n",
      "Num Topics = 34  has Coherence Value of -2.1398\n",
      "Num Topics = 35  has Coherence Value of -2.1452\n",
      "Num Topics = 36  has Coherence Value of -2.1422\n",
      "Num Topics = 37  has Coherence Value of -2.1413\n",
      "Num Topics = 38  has Coherence Value of -2.134\n",
      "Num Topics = 39  has Coherence Value of -2.1295\n"
     ]
    }
   ],
   "source": [
    "#Wypisanie każdego z 40 wyników\n",
    "for m, cv in zip(x, coherence_values):\n",
    "    print(\"Num Topics =\", m, \" has Coherence Value of\", round(cv, 4))"
   ]
  },
  {
   "cell_type": "code",
   "execution_count": 63,
   "metadata": {},
   "outputs": [
    {
     "name": "stdout",
     "output_type": "stream",
     "text": [
      "Optimal Num Topics = [8]  has Coherence Value of [-2.026405512346171]\n"
     ]
    }
   ],
   "source": [
    "#Wyznaczenie najlepszego wyniku z powyższych 40\n",
    "optimal_t = [m for m, cv in zip(x, coherence_values) if cv == max(coherence_values)]\n",
    "optimal_n = [cv for m, cv in zip(x, coherence_values) if cv == max(coherence_values)]\n",
    "print(\"Optimal Num Topics =\", optimal_t, \" has Coherence Value of\", optimal_n)"
   ]
  },
  {
   "cell_type": "code",
   "execution_count": 64,
   "metadata": {},
   "outputs": [],
   "source": [
    "opt_top = pd.DataFrame(columns=['Num_Topics', 'Coherence_Value'])"
   ]
  },
  {
   "cell_type": "code",
   "execution_count": 65,
   "metadata": {},
   "outputs": [],
   "source": [
    "#Pętla wykonująca 10 razy ewaluacje 12 modeli LDA i wybór optimum, zapisująca 10 optymalnych rozwiązań do ramki danych\n",
    "\n",
    "for i in range(10):\n",
    "    model_list, coherence_values = compute_coherence_values(dictionary=dictionary, corpus=bow_corpus, \n",
    "                                                        start=2, limit=12, step=1)\n",
    "    optimal_t = [m for m, cv in zip(x, coherence_values) if cv == max(coherence_values)]\n",
    "    optimal_n = [cv for m, cv in zip(x, coherence_values) if cv == max(coherence_values)]\n",
    "    opt_top.loc[i] = optimal_t + optimal_n"
   ]
  },
  {
   "cell_type": "code",
   "execution_count": 72,
   "metadata": {},
   "outputs": [
    {
     "data": {
      "text/html": [
       "<div>\n",
       "<style scoped>\n",
       "    .dataframe tbody tr th:only-of-type {\n",
       "        vertical-align: middle;\n",
       "    }\n",
       "\n",
       "    .dataframe tbody tr th {\n",
       "        vertical-align: top;\n",
       "    }\n",
       "\n",
       "    .dataframe thead th {\n",
       "        text-align: right;\n",
       "    }\n",
       "</style>\n",
       "<table border=\"1\" class=\"dataframe\">\n",
       "  <thead>\n",
       "    <tr style=\"text-align: right;\">\n",
       "      <th></th>\n",
       "      <th>Num_Topics</th>\n",
       "      <th>Coherence_Value</th>\n",
       "    </tr>\n",
       "  </thead>\n",
       "  <tbody>\n",
       "    <tr>\n",
       "      <th>0</th>\n",
       "      <td>11.0</td>\n",
       "      <td>-2.053947</td>\n",
       "    </tr>\n",
       "    <tr>\n",
       "      <th>1</th>\n",
       "      <td>5.0</td>\n",
       "      <td>-2.038382</td>\n",
       "    </tr>\n",
       "    <tr>\n",
       "      <th>2</th>\n",
       "      <td>2.0</td>\n",
       "      <td>-2.015553</td>\n",
       "    </tr>\n",
       "    <tr>\n",
       "      <th>3</th>\n",
       "      <td>8.0</td>\n",
       "      <td>-2.028757</td>\n",
       "    </tr>\n",
       "    <tr>\n",
       "      <th>4</th>\n",
       "      <td>5.0</td>\n",
       "      <td>-2.048322</td>\n",
       "    </tr>\n",
       "    <tr>\n",
       "      <th>5</th>\n",
       "      <td>3.0</td>\n",
       "      <td>-2.050231</td>\n",
       "    </tr>\n",
       "    <tr>\n",
       "      <th>6</th>\n",
       "      <td>6.0</td>\n",
       "      <td>-2.051097</td>\n",
       "    </tr>\n",
       "    <tr>\n",
       "      <th>7</th>\n",
       "      <td>3.0</td>\n",
       "      <td>-2.052287</td>\n",
       "    </tr>\n",
       "    <tr>\n",
       "      <th>8</th>\n",
       "      <td>3.0</td>\n",
       "      <td>-2.048560</td>\n",
       "    </tr>\n",
       "    <tr>\n",
       "      <th>9</th>\n",
       "      <td>5.0</td>\n",
       "      <td>-1.993876</td>\n",
       "    </tr>\n",
       "  </tbody>\n",
       "</table>\n",
       "</div>"
      ],
      "text/plain": [
       "   Num_Topics  Coherence_Value\n",
       "0        11.0        -2.053947\n",
       "1         5.0        -2.038382\n",
       "2         2.0        -2.015553\n",
       "3         8.0        -2.028757\n",
       "4         5.0        -2.048322\n",
       "5         3.0        -2.050231\n",
       "6         6.0        -2.051097\n",
       "7         3.0        -2.052287\n",
       "8         3.0        -2.048560\n",
       "9         5.0        -1.993876"
      ]
     },
     "execution_count": 72,
     "metadata": {},
     "output_type": "execute_result"
    }
   ],
   "source": [
    "opt_top.head(10)"
   ]
  },
  {
   "cell_type": "code",
   "execution_count": 68,
   "metadata": {},
   "outputs": [
    {
     "name": "stdout",
     "output_type": "stream",
     "text": [
      "   Num_Topics  Coherence_Value\n",
      "9         5.0        -1.993876\n"
     ]
    }
   ],
   "source": [
    "#Wyświetlenie najlepszego wyniku z 10 najlepszych wyników - ostateczny wynik\n",
    "print(opt_top.loc[opt_top['Coherence_Value'] == opt_top['Coherence_Value'].max()])"
   ]
  },
  {
   "cell_type": "markdown",
   "metadata": {},
   "source": [
    "Z powyższej symulacji wynikło, że optymalną liczbą tematów w modelu jest 5."
   ]
  },
  {
   "cell_type": "markdown",
   "metadata": {},
   "source": [
    "### Obliczanie modelu"
   ]
  },
  {
   "cell_type": "markdown",
   "metadata": {},
   "source": [
    "Po przygotowaniu danych w odpowiedniej formie wykonany został algorytm LDA w dwóch wariantach.\n",
    "1. W pierwszym wariancie liczba tematów do wygenerowania została ustalona arbitralnie, na podstawie teorii marketingowej.\n",
    "2. W drugim wariancie liczba tematów jest optimum obliczonym przez algorytm symulacyjny. "
   ]
  },
  {
   "cell_type": "markdown",
   "metadata": {},
   "source": [
    "##### Obliczanie modelu dla 2 wątków"
   ]
  },
  {
   "cell_type": "code",
   "execution_count": 32,
   "metadata": {
    "scrolled": false
   },
   "outputs": [
    {
     "name": "stdout",
     "output_type": "stream",
     "text": [
      "Topic: 0 \n",
      "Words: 0.136*\"meal\" + 0.119*\"benefit\" + 0.100*\"vitamin\" + 0.091*\"family\" + 0.086*\"juice\" + 0.082*\"fresh\" + 0.074*\"child\" + 0.072*\"tasty\" + 0.064*\"positive\" + 0.059*\"value\" + 0.058*\"diet\" + 0.057*\"interest\" + 0.000*\"natural\" + 0.000*\"process\" + 0.000*\"field\" + 0.000*\"farmer\" + 0.000*\"nature\"\n",
      "\n",
      "Topic: 1 \n",
      "Words: 0.150*\"field\" + 0.143*\"grow\" + 0.142*\"farmer\" + 0.130*\"process\" + 0.099*\"crop\" + 0.085*\"polish\" + 0.081*\"natural\" + 0.078*\"nature\" + 0.065*\"cultivation\" + 0.019*\"value\" + 0.004*\"vitamin\" + 0.000*\"fresh\" + 0.000*\"benefit\" + 0.000*\"diet\" + 0.000*\"family\" + 0.000*\"juice\" + 0.000*\"tasty\"\n",
      "\n"
     ]
    }
   ],
   "source": [
    "lda_model = gensim.models.LdaMulticore(bow_corpus, num_topics=2, id2word=dictionary, passes=300, workers=4)\n",
    "\n",
    "for idx, topic in lda_model.print_topics(-1,15):\n",
    "    print('Topic: {} \\nWords: {}\\n'.format(idx, topic))"
   ]
  },
  {
   "cell_type": "code",
   "execution_count": 9,
   "metadata": {},
   "outputs": [],
   "source": [
    "#Zapisywanie ciekawszych modeli\n",
    "from gensim.test.utils import datapath\n",
    "\n",
    "#lda_model.save('model\\\\lda_all_1.1')"
   ]
  },
  {
   "cell_type": "markdown",
   "metadata": {
    "scrolled": false
   },
   "source": [
    "##### Obliczanie modelu dla symulowanej liczby wątków"
   ]
  },
  {
   "cell_type": "code",
   "execution_count": 5,
   "metadata": {
    "scrolled": false
   },
   "outputs": [
    {
     "name": "stdout",
     "output_type": "stream",
     "text": [
      "Topic: 0 \n",
      "Words: 0.291*\"family\" + 0.271*\"vitamin\" + 0.237*\"child\" + 0.139*\"positive\" + 0.056*\"fresh\" + 0.000*\"juice\" + 0.000*\"diet\" + 0.000*\"field\" + 0.000*\"natural\" + 0.000*\"grow\"\n",
      "\n",
      "Topic: 1 \n",
      "Words: 0.470*\"meal\" + 0.249*\"tasty\" + 0.223*\"fresh\" + 0.052*\"diet\" + 0.000*\"juice\" + 0.000*\"vitamin\" + 0.000*\"process\" + 0.000*\"interest\" + 0.000*\"grow\" + 0.000*\"farmer\"\n",
      "\n",
      "Topic: 2 \n",
      "Words: 0.431*\"benefit\" + 0.280*\"value\" + 0.208*\"interest\" + 0.075*\"positive\" + 0.000*\"diet\" + 0.000*\"cultivation\" + 0.000*\"grow\" + 0.000*\"vitamin\" + 0.000*\"process\" + 0.000*\"nature\"\n",
      "\n",
      "Topic: 3 \n",
      "Words: 0.177*\"juice\" + 0.175*\"process\" + 0.157*\"natural\" + 0.154*\"grow\" + 0.115*\"nature\" + 0.090*\"diet\" + 0.088*\"cultivation\" + 0.041*\"vitamin\" + 0.000*\"fresh\" + 0.000*\"crop\"\n",
      "\n",
      "Topic: 4 \n",
      "Words: 0.242*\"field\" + 0.230*\"farmer\" + 0.160*\"crop\" + 0.137*\"polish\" + 0.102*\"grow\" + 0.064*\"process\" + 0.032*\"cultivation\" + 0.030*\"nature\" + 0.000*\"vitamin\" + 0.000*\"fresh\"\n",
      "\n"
     ]
    }
   ],
   "source": [
    "lda_model_sim = gensim.models.LdaMulticore(bow_corpus, num_topics=5, id2word=dictionary, passes=300, workers=4)\n",
    "\n",
    "for idx, topic in lda_model_sim.print_topics(-1,15):\n",
    "    print('Topic: {} \\nWords: {}\\n'.format(idx, topic))"
   ]
  },
  {
   "cell_type": "code",
   "execution_count": 9,
   "metadata": {},
   "outputs": [],
   "source": [
    "#Zapisywanie ciekawszych modeli\n",
    "from gensim.test.utils import datapath\n",
    "\n",
    "#lda_model.save('model\\\\lda_all_2.1')"
   ]
  },
  {
   "cell_type": "markdown",
   "metadata": {},
   "source": [
    "Wizualizacja wyników analizy znajduje się w pliku [*results_visualisation.ipynb*](4_results_visualisation.ipynb)."
   ]
  }
 ],
 "metadata": {
  "kernelspec": {
   "display_name": "Python 3",
   "language": "python",
   "name": "python3"
  },
  "language_info": {
   "codemirror_mode": {
    "name": "ipython",
    "version": 3
   },
   "file_extension": ".py",
   "mimetype": "text/x-python",
   "name": "python",
   "nbconvert_exporter": "python",
   "pygments_lexer": "ipython3",
   "version": "3.8.3"
  }
 },
 "nbformat": 4,
 "nbformat_minor": 4
}
